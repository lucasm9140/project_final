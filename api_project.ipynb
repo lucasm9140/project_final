{
  "nbformat": 4,
  "nbformat_minor": 0,
  "metadata": {
    "colab": {
      "provenance": []
    },
    "kernelspec": {
      "name": "python3",
      "display_name": "Python 3"
    },
    "language_info": {
      "name": "python"
    }
  },
  "cells": [
    {
      "cell_type": "markdown",
      "source": [
        "# Visão Geral do Processo\n",
        "- A solução envolve três partes principais:\n",
        "\n",
        "  - FastAPI (Python): Para servir o modelo de machine learning e fazer previsões de falência.\n",
        "  - Backend em Node.js: Para interagir com a API FastAPI e servir o frontend.\n",
        "  - Frontend em React: Para fornecer uma interface de usuário onde os dados podem ser inseridos e a previsão de falência pode ser exibida.\n",
        "- API FastAPI para Servir o Modelo de Machine Learning\n",
        "- O FastAPI será responsável por carregar o modelo treinado e expô-lo por meio de uma API RESTful. Aqui, usaremos o modelo de RandomForestClassifier treinado com SMOTE e ajustado por um limiar de decisão.\n",
        "\n",
        "## Estrutura de Diretórios da API FastAPI:\n",
        "\n"
      ],
      "metadata": {
        "id": "6CYMysNh2IgM"
      }
    },
    {
      "cell_type": "code",
      "source": [
        "/fastapi-app\n",
        "    /model\n",
        "        model.pkl   (Modelo treinado)\n",
        "    main.py        (Código FastAPI)\n",
        "    requirements.txt\n"
      ],
      "metadata": {
        "id": "VzcGyUC-2X0b"
      },
      "execution_count": null,
      "outputs": []
    },
    {
      "cell_type": "markdown",
      "source": [
        "# Instalar Dependências:\n",
        "- No arquivo requirements.txt, insira:\n",
        "\n",
        "\n"
      ],
      "metadata": {
        "id": "lcL0__AT2ay0"
      }
    },
    {
      "cell_type": "code",
      "source": [
        "fastapi\n",
        "uvicorn\n",
        "scikit-learn\n",
        "imbalanced-learn\n",
        "pandas\n",
        "joblib\n"
      ],
      "metadata": {
        "id": "PImgGbm52e0z"
      },
      "execution_count": null,
      "outputs": []
    },
    {
      "cell_type": "markdown",
      "source": [
        "# Instale as dependências com o comando:"
      ],
      "metadata": {
        "id": "8QDjx2Rv2hNz"
      }
    },
    {
      "cell_type": "code",
      "source": [
        "pip install -r requirements.txt\n"
      ],
      "metadata": {
        "id": "10NKP_hN2muz"
      },
      "execution_count": null,
      "outputs": []
    },
    {
      "cell_type": "markdown",
      "source": [
        "# Código da API FastAPI (main.py):"
      ],
      "metadata": {
        "id": "tzh7jPIf2hMW"
      }
    },
    {
      "cell_type": "code",
      "source": [
        "from fastapi import FastAPI\n",
        "from pydantic import BaseModel\n",
        "import joblib\n",
        "import pandas as pd\n",
        "\n",
        "# Inicializando a aplicação FastAPI\n",
        "app = FastAPI()\n",
        "\n",
        "# Carregar o modelo treinado\n",
        "model = joblib.load(\"model/model.pkl\")\n",
        "\n",
        "# Definir o esquema de entrada\n",
        "class InputData(BaseModel):\n",
        "    dependencia_emprestimos: float\n",
        "    rendimento_liquido_patrimonio_acionistas: float\n",
        "    divida_total_valor_liquido_total: float\n",
        "    roa_b_antes_juros_depreciacao_apos_imposto: float\n",
        "    receita_despesa_extra_industria: float\n",
        "    indice_despesas_juros: float\n",
        "    valor_liquido_ativos: float\n",
        "    indice_endividamento: float\n",
        "    caixa_ativos_totais: float\n",
        "    capital_giro_patrimonio_liquido: float\n",
        "\n",
        "# Função para predizer a falência com ajuste de limiar\n",
        "@app.post(\"/predict/\")\n",
        "async def predict(data: InputData, threshold: float = 0.5):\n",
        "    input_df = pd.DataFrame([data.dict()])\n",
        "\n",
        "    # Realiza a previsão\n",
        "    prediction_proba = model.predict_proba(input_df)[:, 1]  # Probabilidade da classe 1 (falência)\n",
        "    prediction = (prediction_proba > threshold).astype(int)  # Ajuste do limiar de decisão\n",
        "\n",
        "    return {\"prediction\": int(prediction[0]), \"probability\": float(prediction_proba[0])}\n",
        "\n",
        "# Rodar o servidor com 'uvicorn main:app --reload' no terminal\n"
      ],
      "metadata": {
        "id": "NrZSMSxA2smK"
      },
      "execution_count": null,
      "outputs": []
    },
    {
      "cell_type": "markdown",
      "source": [
        "# Como funciona o código:\n",
        "- O modelo treinado é carregado usando joblib.load.\n",
        "- O endpoint /predict/ recebe os dados do usuário e calcula a probabilidade de falência.\n",
        "- O limiar de decisão é ajustável, com um valor padrão de 0.5. O parâmetro threshold pode ser passado para alterar esse limiar (ex: ?threshold=0.7).\n",
        "- A resposta inclui a classe prevista e a probabilidade associada.\n",
        "## Executar o servidor FastAPI:"
      ],
      "metadata": {
        "id": "Gdw0EWeW2vlz"
      }
    },
    {
      "cell_type": "code",
      "source": [
        "uvicorn main:app --reload\n"
      ],
      "metadata": {
        "id": "gR5Bk5Ae23uz"
      },
      "execution_count": null,
      "outputs": []
    },
    {
      "cell_type": "markdown",
      "source": [
        "- A API estará disponível em http://127.0.0.1:8000.\n",
        "\n",
        "# Backend em Node.js\n",
        "- Agora, vamos configurar o backend em Node.js para fazer as requisições à API FastAPI e servir os dados para o frontend.\n",
        "\n",
        "### Estrutura de Diretórios do Backend:"
      ],
      "metadata": {
        "id": "3it4OSvl28pj"
      }
    },
    {
      "cell_type": "code",
      "source": [
        "/node-backend\n",
        "    server.js\n",
        "    package.json\n"
      ],
      "metadata": {
        "id": "JUxSOkRd3FeL"
      },
      "execution_count": null,
      "outputs": []
    },
    {
      "cell_type": "markdown",
      "source": [
        "# Código do Backend (server.js):\n",
        "- Instalar dependências:\n",
        "  - Primeiro, crie o arquivo package.json e instale as dependências necessárias (express para o servidor e axios para fazer as requisições HTTP):"
      ],
      "metadata": {
        "id": "O8a9D0vN3HOr"
      }
    },
    {
      "cell_type": "code",
      "source": [
        "npm init -y\n",
        "npm install express axios cors\n"
      ],
      "metadata": {
        "id": "nVgmtQpn3M2T"
      },
      "execution_count": null,
      "outputs": []
    },
    {
      "cell_type": "markdown",
      "source": [
        "# Código do servidor Node.js (server.js):"
      ],
      "metadata": {
        "id": "aWwcdmv13O0T"
      }
    },
    {
      "cell_type": "code",
      "source": [
        "const express = require(\"express\");\n",
        "const axios = require(\"axios\");\n",
        "const cors = require('cors');\n",
        "\n",
        "const app = express();\n",
        "const port = 3000;\n",
        "\n",
        "// Habilitar CORS para permitir requisições do frontend\n",
        "app.use(cors());\n",
        "app.use(express.json());\n",
        "\n",
        "// Rota para consumir a API FastAPI e obter a previsão\n",
        "app.post(\"/predict\", async (req, res) => {\n",
        "    try {\n",
        "        const response = await axios.post(\"http://127.0.0.1:8000/predict/\", req.body);\n",
        "        res.json(response.data);\n",
        "    } catch (error) {\n",
        "        console.error(\"Erro ao fazer a requisição para a API FastAPI:\", error.message);\n",
        "        res.status(500).json({ error: \"Erro ao fazer a previsão\" });\n",
        "    }\n",
        "});\n",
        "\n",
        "// Iniciar o servidor\n",
        "app.listen(port, () => {\n",
        "    console.log(`Servidor Node.js rodando na porta ${port}`);\n",
        "});\n"
      ],
      "metadata": {
        "id": "o2oqrJTu3SgT"
      },
      "execution_count": null,
      "outputs": []
    },
    {
      "cell_type": "markdown",
      "source": [
        "# Explicação:\n",
        "- O servidor Node.js usa Express para gerenciar as rotas e Axios para fazer requisições HTTP para a API FastAPI.\n",
        "- A rota /predict recebe os dados do frontend, envia para a API FastAPI e retorna a resposta (previsão de falência e a probabilidade).\n",
        "CORS é habilitado para permitir que o frontend React acesse a API.\n",
        "### Executar o servidor Node.js:"
      ],
      "metadata": {
        "id": "-34HfTPe3UwT"
      }
    },
    {
      "cell_type": "code",
      "source": [
        "node server.js\n"
      ],
      "metadata": {
        "id": "07qAadE13b8L"
      },
      "execution_count": null,
      "outputs": []
    },
    {
      "cell_type": "markdown",
      "source": [
        "- O backend estará rodando em http://127.0.0.1:3000.\n",
        "\n",
        "# Frontend em React\n",
        "- Agora, vamos criar o frontend em React, onde o usuário poderá inserir as variáveis e ver o resultado da previsão de falência.\n",
        "\n",
        "### Estrutura de Diretórios do Frontend:"
      ],
      "metadata": {
        "id": "HAtkwZPc3bcz"
      }
    },
    {
      "cell_type": "code",
      "source": [
        "/frontend\n",
        "    /src\n",
        "        App.js\n",
        "    package.json\n"
      ],
      "metadata": {
        "id": "y6D95GU13mbz"
      },
      "execution_count": null,
      "outputs": []
    },
    {
      "cell_type": "markdown",
      "source": [
        "# Código do Frontend (App.js):\n",
        "- Instalar o React:\n",
        "Se você ainda não tem um projeto React, crie um com o seguinte comando:\n",
        "\n",
        "\n"
      ],
      "metadata": {
        "id": "_f72Bpnz3p1T"
      }
    },
    {
      "cell_type": "code",
      "source": [
        "npx create-react-app frontend\n"
      ],
      "metadata": {
        "id": "E4VzKWWy3pGz"
      },
      "execution_count": null,
      "outputs": []
    },
    {
      "cell_type": "markdown",
      "source": [
        "# Código do React (App.js):"
      ],
      "metadata": {
        "id": "ygZq-hAw3w2L"
      }
    },
    {
      "cell_type": "code",
      "source": [
        "import React, { useState } from \"react\";\n",
        "import axios from \"axios\";\n",
        "\n",
        "function App() {\n",
        "  const [inputData, setInputData] = useState({\n",
        "    dependencia_emprestimos: \"\",\n",
        "    rendimento_liquido_patrimonio_acionistas: \"\",\n",
        "    divida_total_valor_liquido_total: \"\",\n",
        "    roa_b_antes_juros_depreciacao_apos_imposto: \"\",\n",
        "    receita_despesa_extra_industria: \"\",\n",
        "    indice_despesas_juros: \"\",\n",
        "    valor_liquido_ativos: \"\",\n",
        "    indice_endividamento: \"\",\n",
        "    caixa_ativos_totais: \"\",\n",
        "    capital_giro_patrimonio_liquido: \"\"\n",
        "  });\n",
        "\n",
        "  const [prediction, setPrediction] = useState(null);\n",
        "  const [loading, setLoading] = useState(false);\n",
        "  const [error, setError] = useState(null);\n",
        "\n",
        "  const handleChange = (e) => {\n",
        "    const { name, value } = e.target;\n",
        "    setInputData({\n",
        "      ...inputData,\n",
        "      [name]: value\n",
        "    });\n",
        "  };\n",
        "\n",
        "  const handleSubmit = async (e) => {\n",
        "    e.preventDefault();\n",
        "\n",
        "    // Validação simples\n",
        "    if (Object.values(inputData).some(value => value === \"\")) {\n",
        "      setError(\"Todos os campos precisam ser preenchidos.\");\n",
        "      return;\n",
        "    }\n",
        "\n",
        "    setLoading(true);\n",
        "    setError(null);\n",
        "\n",
        "    try {\n",
        "      const response = await axios.post(\"http://127.0.0.1:3000/predict\", inputData);\n",
        "      setPrediction(response.data);\n",
        "    } catch (error) {\n",
        "      setError(\"Erro ao fazer a requisição para o backend.\");\n",
        "    } finally {\n",
        "      setLoading(false);\n",
        "    }\n",
        "  };\n",
        "\n",
        "  return (\n",
        "    <div>\n",
        "      <h1>Previsão de Falência</h1>\n",
        "      <form onSubmit={handleSubmit}>\n",
        "        {Object.keys(inputData).map((key) => (\n",
        "          <div key={key}>\n",
        "            <label>{key.replace(/_/g, \" \")}</label>\n",
        "            <input\n",
        "              type=\"number\"\n",
        "              name={key}\n",
        "              value={inputData[key]}\n",
        "              onChange={handleChange}\n",
        "              required\n",
        "            />\n",
        "          </div>\n",
        "        ))}\n",
        "        <button type=\"submit\">Enviar</button>\n",
        "      </form>\n",
        "\n",
        "      {loading && <p>Carregando...</p>}\n",
        "      {error && <p style={{ color: 'red' }}>{error}</p>}\n",
        "\n",
        "      {prediction && (\n",
        "        <div>\n",
        "          <h2>Resultado da Previsão</h2>\n",
        "          <p>Previsão de Falência: {prediction.prediction ? \"Sim\" : \"Não\"}</p>\n",
        "          <p>Probabilidade: {prediction.probability}</p>\n",
        "        </div>\n",
        "      )}\n",
        "    </div>\n",
        "  );\n",
        "}\n",
        "\n",
        "export default App;\n"
      ],
      "metadata": {
        "id": "nOeTxdx633dD"
      },
      "execution_count": null,
      "outputs": []
    },
    {
      "cell_type": "markdown",
      "source": [
        "# Explicação:\n",
        "- O formulário coleta as 10 variáveis do usuário, que são enviadas para o backend Node.js.\n",
        "- A requisição POST é feita para o backend Node.js, que por sua vez faz a requisição à API FastAPI.\n",
        "- A resposta é exibida no frontend, mostrando a previsão de falência e a probabilidade.\n",
        "### Executar o Frontend:\n",
        "- Para rodar o frontend, execute o seguinte comando dentro do diretório do projeto React:"
      ],
      "metadata": {
        "id": "pS5nCcF135k7"
      }
    },
    {
      "cell_type": "code",
      "source": [
        "npm start\n"
      ],
      "metadata": {
        "id": "N51O4cei4Dy7"
      },
      "execution_count": null,
      "outputs": []
    },
    {
      "cell_type": "markdown",
      "source": [
        "- O frontend estará disponível em http://localhost:3000.\n",
        "\n",
        "# Explicação sobre o Limiar (Threshold)\n",
        "- O limiar é o valor de corte utilizado para decidir a classe de uma previsão com base na probabilidade gerada pelo modelo. Em uma classificação binária (como a previsão de falência), o modelo retorna uma probabilidade de a instância pertencer à classe \"falência\" (classe 1).\n",
        "- O limiar define quando essa probabilidade é suficiente para classificar a instância como falida.\n",
        "\n",
        "- Limiar padrão de 0.5: Se a probabilidade for maior que 50%, a empresa é classificada como falida (classe 1); caso contrário, ela é classificada como não falida (classe 0).\n",
        "- Ajustando o limiar: O limiar pode ser ajustado para ser mais sensível ou mais conservador. Um limiar mais baixo (ex: 0.3) fará com que o modelo classifique mais empresas como falidas, aumentando a revocação (mas reduzindo a precisão).\n",
        "- Já um limiar mais alto (ex: 0.7) será mais rigoroso e apenas classificará empresas com alta probabilidade de falir.\n",
        "- Esse ajuste é importante para controlar a taxa de falsos positivos e falsos negativos com base na estratégia de negócio."
      ],
      "metadata": {
        "id": "_m5WGQB14FZV"
      }
    },
    {
      "cell_type": "markdown",
      "source": [
        "# Arquivo package.json para o Backend Node.js\n",
        "- Quando você cria o projeto Node.js, você pode gerar o arquivo package.json automaticamente com o comando npm init -y. No entanto, para garantir que as dependências corretas estejam configuradas, o package.json para o backend Node.js que interage com a API FastAPI e serve o frontend React seria semelhante ao seguinte:\n",
        "\n",
        "## Conteúdo do package.json:"
      ],
      "metadata": {
        "id": "zJfm9vVm7uSM"
      }
    },
    {
      "cell_type": "code",
      "source": [
        "{\n",
        "  \"name\": \"node-backend\",\n",
        "  \"version\": \"1.0.0\",\n",
        "  \"description\": \"Backend para API de previsão de falência usando FastAPI e React\",\n",
        "  \"main\": \"server.js\",\n",
        "  \"scripts\": {\n",
        "    \"start\": \"node server.js\"\n",
        "  },\n",
        "  \"author\": \"\",\n",
        "  \"license\": \"ISC\",\n",
        "  \"dependencies\": {\n",
        "    \"axios\": \"^1.4.0\",\n",
        "    \"cors\": \"^2.8.5\",\n",
        "    \"express\": \"^4.18.2\"\n",
        "  }\n",
        "}\n"
      ],
      "metadata": {
        "id": "mYru1qcn7xPU"
      },
      "execution_count": null,
      "outputs": []
    },
    {
      "cell_type": "markdown",
      "source": [
        "# Explicação:\n",
        "- name: Nome do seu projeto (node-backend).\n",
        "- version: Versão do seu projeto.\n",
        "- description: Descrição breve sobre o que é o seu projeto.\n",
        "- main: Arquivo principal do seu servidor, que é o server.js no seu caso.\n",
        "- scripts:\n",
        "- \"start\": Comando para iniciar o servidor Node.js. Quando você rodar - npm start, ele vai iniciar o servidor com node server.js.\n",
        "- dependencies:\n",
        "- axios: Para fazer requisições HTTP para a API FastAPI.\n",
        "- cors: Para permitir que o frontend (React) faça requisições para o backend (Node.js).\n",
        "- express: Framework para criar o servidor e gerenciar as rotas.\n",
        "### Como criar o arquivo package.json:\n",
        "- Se você ainda não tem o arquivo package.json no seu projeto, você pode criar um novo arquivo com o seguinte comando:\n",
        "\n",
        "\n"
      ],
      "metadata": {
        "id": "LH-fuNuM7zts"
      }
    },
    {
      "cell_type": "code",
      "source": [
        "npm init -y\n"
      ],
      "metadata": {
        "id": "fPiRsmR-8H90"
      },
      "execution_count": null,
      "outputs": []
    },
    {
      "cell_type": "markdown",
      "source": [
        "- Em seguida, instale as dependências necessárias com o comando:"
      ],
      "metadata": {
        "id": "iRQeAXBw8Jlc"
      }
    },
    {
      "cell_type": "code",
      "source": [
        "npm install axios cors express\n"
      ],
      "metadata": {
        "id": "5qgnIBTm8MMN"
      },
      "execution_count": null,
      "outputs": []
    },
    {
      "cell_type": "markdown",
      "source": [
        "- Isso vai gerar um arquivo package.json automaticamente, e as dependências serão adicionadas à seção dependencies."
      ],
      "metadata": {
        "id": "6HQi8KpF8N5L"
      }
    },
    {
      "cell_type": "markdown",
      "source": [
        "#  package.json para o Backend (Node.js)\n",
        "- Este é o arquivo package.json que você terá no backend, dentro do diretório node-backend, como mencionei antes. Ele contém as dependências necessárias para o servidor Node.js que vai se comunicar com a API FastAPI.\n",
        "\n",
        "- Exemplo de package.json para o Backend (Node.js):"
      ],
      "metadata": {
        "id": "BcSRe7yV8lak"
      }
    },
    {
      "cell_type": "code",
      "source": [
        "{\n",
        "  \"name\": \"node-backend\",\n",
        "  \"version\": \"1.0.0\",\n",
        "  \"description\": \"Backend para API de previsão de falência usando FastAPI e React\",\n",
        "  \"main\": \"server.js\",\n",
        "  \"scripts\": {\n",
        "    \"start\": \"node server.js\"\n",
        "  },\n",
        "  \"author\": \"\",\n",
        "  \"license\": \"ISC\",\n",
        "  \"dependencies\": {\n",
        "    \"axios\": \"^1.4.0\",\n",
        "    \"cors\": \"^2.8.5\",\n",
        "    \"express\": \"^4.18.2\"\n",
        "  }\n",
        "}\n"
      ],
      "metadata": {
        "id": "y00AuQoH8peV"
      },
      "execution_count": null,
      "outputs": []
    },
    {
      "cell_type": "markdown",
      "source": [
        "# Explicação:\n",
        "\n",
        "- axios: Faz as requisições HTTP para a API FastAPI.\n",
        "express: Framework para criar o servidor e gerenciar as rotas.\n",
        "cors: Para permitir requisições do frontend (React) para o backend (Node.js).\n",
        "# package.json para o Frontend (React)\n",
        "- Já o frontend será feito com React. O arquivo package.json para o frontend será gerado automaticamente quando você criar o projeto React usando o create-react-app. Esse arquivo vai gerenciar as dependências do lado cliente.\n",
        "\n",
        "## Exemplo de package.json para o Frontend (React):"
      ],
      "metadata": {
        "id": "rFytaGOy8oqb"
      }
    },
    {
      "cell_type": "code",
      "source": [
        "{\n",
        "  \"name\": \"frontend\",\n",
        "  \"version\": \"0.1.0\",\n",
        "  \"private\": true,\n",
        "  \"dependencies\": {\n",
        "    \"axios\": \"^1.4.0\",\n",
        "    \"react\": \"^18.2.0\",\n",
        "    \"react-dom\": \"^18.2.0\",\n",
        "    \"react-scripts\": \"5.0.0\"\n",
        "  },\n",
        "  \"scripts\": {\n",
        "    \"start\": \"react-scripts start\",\n",
        "    \"build\": \"react-scripts build\",\n",
        "    \"test\": \"react-scripts test\",\n",
        "    \"eject\": \"react-scripts eject\"\n",
        "  },\n",
        "  \"eslintConfig\": {\n",
        "    \"extends\": [\n",
        "      \"react-app\",\n",
        "      \"react-app/jest\"\n",
        "    ]\n",
        "  },\n",
        "  \"browserslist\": {\n",
        "    \"production\": [\n",
        "      \">0.2%\",\n",
        "      \"not dead\",\n",
        "      \"not op_mini all\"\n",
        "    ],\n",
        "    \"development\": [\n",
        "      \"last 1 chrome version\",\n",
        "      \"last 1 firefox version\",\n",
        "      \"last 1 safari version\"\n",
        "    ]\n",
        "  }\n",
        "}\n"
      ],
      "metadata": {
        "id": "2-DsHpdU8zic"
      },
      "execution_count": null,
      "outputs": []
    },
    {
      "cell_type": "markdown",
      "source": [
        "# Explicação:\n",
        "\n",
        "- axios: Usado no frontend para fazer requisições ao backend Node.js.\n",
        "- react e react-dom: As dependências principais do React.\n",
        "- react-scripts: Utilizado para iniciar o ambiente de desenvolvimento React.\n",
        "- Quando você cria um projeto React com create-react-app, ele já gera automaticamente o arquivo package.json com essas dependências e scripts configurados. Por exemplo, você pode rodar npm start para iniciar o servidor de desenvolvimento do React.\n",
        "\n",
        "## Estrutura do Projeto\n",
        "- Aqui está como a estrutura do seu projeto deve ficar, com os dois diretórios (frontend e node-backend), cada um com seu respectivo package.json:"
      ],
      "metadata": {
        "id": "BTNckKA382Ik"
      }
    },
    {
      "cell_type": "code",
      "source": [
        "/meu-projeto\n",
        "    /frontend              <- Diretório do React (Frontend)\n",
        "        /src\n",
        "            App.js\n",
        "        package.json        <- package.json para o React\n",
        "    /node-backend           <- Diretório do Node.js (Backend)\n",
        "        server.js\n",
        "        package.json        <- package.json para o Node.js\n",
        "    /fastapi-app            <- Diretório da API FastAPI\n",
        "        main.py\n",
        "        model/\n",
        "            model.pkl\n",
        "        requirements.txt\n"
      ],
      "metadata": {
        "id": "LauYxnM08_7E"
      },
      "execution_count": null,
      "outputs": []
    },
    {
      "cell_type": "markdown",
      "source": [
        "# Como Criar os Dois Projetos\n",
        "- Frontend (React):\n",
        "\n",
        "- No diretório frontend, você cria o projeto React com:"
      ],
      "metadata": {
        "id": "VuLdWRIb9CUN"
      }
    },
    {
      "cell_type": "code",
      "source": [
        "npx create-react-app frontend\n"
      ],
      "metadata": {
        "id": "IloKaA1V9JIs"
      },
      "execution_count": null,
      "outputs": []
    },
    {
      "cell_type": "markdown",
      "source": [
        "# Isso vai gerar a estrutura do React, incluindo o package.json para o frontend.\n",
        "\n",
        "## Backend (Node.js):\n",
        "\n",
        "- No diretório node-backend, você inicializa o projeto Node.js com:"
      ],
      "metadata": {
        "id": "AQMUk40n9K0E"
      }
    },
    {
      "cell_type": "code",
      "source": [
        "npm init -y\n"
      ],
      "metadata": {
        "id": "8k5-9Hb19Q_k"
      },
      "execution_count": null,
      "outputs": []
    },
    {
      "cell_type": "markdown",
      "source": [
        "### E depois instala as dependências necessárias:"
      ],
      "metadata": {
        "id": "VblsByAM9Sac"
      }
    },
    {
      "cell_type": "code",
      "source": [
        "npm install axios cors express\n"
      ],
      "metadata": {
        "id": "8c6bS6hK9Y0k"
      },
      "execution_count": null,
      "outputs": []
    },
    {
      "cell_type": "markdown",
      "source": [
        "### Isso vai gerar o arquivo package.json para o backend."
      ],
      "metadata": {
        "id": "7DFasGGk9a8c"
      }
    },
    {
      "cell_type": "markdown",
      "source": [
        "# Resumo\n",
        "- package.json do Backend (Node.js): Gerencia as dependências para o servidor Express (com Axios e CORS).\n",
        "- package.json do Frontend (React): Gerencia as dependências do React (incluindo Axios para fazer requisições HTTP).\n",
        "- Cada parte do projeto tem seu próprio arquivo package.json e as dependências apropriadas.\n",
        "- Com essa estrutura, seu projeto estará bem organizado, e você poderá desenvolver o backend e o frontend de forma independente, mas comunicando-os por meio da API FastAPI e do servidor Node.js."
      ],
      "metadata": {
        "id": "Mce1cUe09f9M"
      }
    },
    {
      "cell_type": "markdown",
      "source": [
        "# Como utilizar e colunas para o formulario\n",
        "1. Dependência de Empréstimos\n",
        "- Pergunta no Formulário:\n",
        "\n",
        "  - \"Qual a porcentagem das suas dívidas totais que é financiada por empréstimos?\"\n",
        "  - Como obter esse valor:\n",
        "\n",
        "  - \"Para calcular esse valor, basta dividir o total de empréstimos que sua empresa tem (seja com bancos, financeiras ou outras fontes) pelo total das dívidas totais da empresa. Se você tem um extrato de dívidas ou um relatório de financiamentos, esse número estará lá. Depois, multiplique por 100 para ter o valor em porcentagem.\"\n",
        "- Explicação para o usuário:\n",
        "\"Este valor mostra o quanto sua empresa depende de empréstimos para manter suas operações. Se for muito alto, isso pode ser um sinal de que sua empresa pode estar com dificuldades financeiras.\"\n",
        "2. Rentabilidade sobre o Patrimônio dos Sócios\n",
        "- Pergunta no Formulário:\n",
        "  - \"Quanto a sua empresa lucra em relação ao valor investido pelos sócios?\"\n",
        "  - Como obter esse valor:\n",
        "  - \"Primeiro, calcule o lucro líquido da sua empresa (o que sobra após todos os custos e impostos). Em seguida, divida esse lucro pelo valor total que os sócios investiram na empresa (o patrimônio deles). Multiplique o resultado por 100 para ter o valor em porcentagem.\"\n",
        "- Explicação para o usuário:\n",
        "  - \"Este indicador mostra se a empresa está gerando lucro em relação ao dinheiro que os sócios colocaram nela. Se esse valor for muito baixo, pode ser que sua empresa não esteja sendo eficiente em gerar retorno.\"\n",
        "3. Dívida Total vs. Valor Líquido da Empresa\n",
        "- Pergunta no Formulário:\n",
        "  - \"Qual o valor total das suas dívidas em relação ao valor que sua empresa possui de ativos líquidos?\"\n",
        "  - Como obter esse valor:\n",
        "  - \"Para calcular isso, some todas as dívidas da empresa, incluindo empréstimos, financiamentos e qualquer outra obrigação financeira. Em seguida, verifique o valor de seus ativos líquidos (dinheiro e bens que podem ser rapidamente convertidos em dinheiro). Divida o total de dívidas pelo valor dos ativos líquidos e multiplique por 100 para obter a porcentagem.\"\n",
        "- Explicação para o usuário:\n",
        "\"Esse valor mostra se a empresa tem mais dívidas do que o que possui em dinheiro e bens líquidos. Se a dívida for maior, isso pode indicar que a empresa está em risco de não conseguir pagar suas obrigações.\"\n",
        "4. Retorno sobre os Ativos\n",
        "- Pergunta no Formulário:\n",
        "  - \"Quanto sua empresa lucra em relação aos seus bens e propriedades?\"\n",
        "  - Como obter esse valor:\n",
        "  - \"Primeiro, calcule o lucro líquido da sua empresa (como já foi explicado). Em seguida, some o valor de todos os ativos da empresa (bens, imóveis, equipamentos, etc.). Divida o lucro líquido pelo total de ativos e multiplique por 100 para obter a porcentagem.\"\n",
        "- Explicação para o usuário:\n",
        "- \"Esse número mostra o quanto sua empresa consegue gerar de lucro com os bens e propriedades que possui. Se o retorno for baixo, pode ser que a empresa não esteja aproveitando bem seus recursos.\"\n",
        "5. Despesas Extraordinárias com a Indústria\n",
        "- Pergunta no Formulário:\n",
        "\n",
        "  - \"Sua empresa tem gastos extras com a indústria? Se sim, qual o valor desses gastos?\"\n",
        "- Como obter esse valor:\n",
        "\n",
        "  - \"Esses gastos podem ser encontrados em seus relatórios financeiros, especificamente na parte que fala sobre despesas operacionais ou custos extraordinários. Se sua empresa teve custos não recorrentes (como manutenção de equipamentos ou aquisição de matérias-primas a um custo inesperado), some esses valores.\"\n",
        "- Explicação para o usuário:\n",
        "\n",
        "- \"Esses gastos representam custos adicionais que sua empresa tem fora do normal. Se eles forem muito altos, podem afetar sua rentabilidade e saúde financeira.\"\n",
        "6. Índice de Despesas com Juros\n",
        "- Pergunta no Formulário:\n",
        "  - \"Qual é a porcentagem da sua receita que é usada para pagar juros de dívidas?\"\n",
        "- Como obter esse valor:\n",
        "  - \"Para calcular, verifique os pagamentos de juros feitos pela sua empresa (geralmente na seção de ‘despesas financeiras’ do seu balanço). Depois, divida o total de juros pagos pela sua receita anual. Multiplique o resultado por 100 para obter a porcentagem.\"\n",
        "\n",
        "- Explicação para o usuário:\n",
        "\n",
        "- \"Se um grande valor da sua receita é destinado ao pagamento de juros, isso pode indicar que sua empresa está gastando mais para manter suas dívidas do que para crescer.\"\n",
        "7. Valor Líquido vs. Ativos Totais\n",
        "- Pergunta no Formulário:\n",
        "  - \"Qual a porcentagem do valor disponível da sua empresa em relação aos seus ativos totais?\"\n",
        "  - Como obter esse valor:\n",
        "  - \"Verifique o saldo de caixa da sua empresa (dinheiro disponível ou reservas financeiras). Em seguida, divida esse valor pelo total de ativos que a empresa possui (todos os bens e propriedades). Multiplique o resultado por 100 para ter o valor em porcentagem.\"\n",
        "- Explicação para o usuário:\n",
        "  - \"Esse número mostra a proporção do que sua empresa tem de recursos líquidos comparado ao total de seus bens. Se for baixo, pode significar que a empresa não está bem preparada para imprevistos.\"\n",
        "8. Índice de Endividamento\n",
        "- Pergunta no Formulário:\n",
        "  - \"Qual a porcentagem do valor total da sua empresa é composta por dívidas?\"\n",
        "- Como obter esse valor:\n",
        "  - \"Para calcular, divida o total de dívidas da empresa pelo valor total da empresa (soma do patrimônio líquido mais as dívidas). Multiplique o resultado por 100 para obter a porcentagem.\"\n",
        "- Explicação para o usuário:\n",
        "  - \"Esse valor ajuda a entender o quanto a empresa deve em comparação com o que ela possui. Quanto maior a porcentagem, mais a empresa está endividada.\"\n",
        "9. Proporção de Caixa em Relação aos Ativos Totais\n",
        "- Pergunta no Formulário:\n",
        "\n",
        "  - \"Qual a porcentagem do valor total da sua empresa está disponível em caixa ou reservas?\"\n",
        "- Como obter esse valor:\n",
        "\n",
        "  - \"Esse valor pode ser encontrado no balanço financeiro da empresa. Verifique o total de caixa e reservas e divida pelo total de ativos da empresa. Multiplique por 100 para obter a porcentagem.\"\n",
        "- Explicação para o usuário: \"Esse indicador mostra se a empresa tem dinheiro suficiente em caixa para cobrir suas obrigações imediatas. Quanto maior esse valor, mais fácil será para a empresa lidar com imprevistos.\"\n",
        "\n",
        "10. Capital de Giro em Relação ao Patrimônio Líquido\n",
        "- Pergunta no Formulário:\n",
        "\n",
        "  - \"Qual a proporção do seu capital de giro (dinheiro disponível para operar) em relação ao patrimônio dos sócios?\"\n",
        "- Como obter esse valor:\n",
        "\n",
        "  - \"O capital de giro pode ser calculado a partir da diferença entre o que a empresa possui em ativos circulantes (dinheiro, contas a receber, estoques) e as suas obrigações de curto prazo. Divida esse valor pelo total do patrimônio líquido dos sócios e multiplique por 100 para obter a porcentagem.\"\n",
        "- Explicação para o usuário:\n",
        "\n",
        "  - \"O capital de giro é o dinheiro necessário para a empresa operar no dia a dia. Se o valor for muito baixo, pode indicar que a empresa não tem recursos suficientes para manter suas operações sem recorrer a crédito ou empréstimos.\"\n",
        "### Dicas para o Formulário:\n",
        "\n",
        "- Exemplos Visuais: Sempre que possível, forneça exemplos visuais ou valores padrão para facilitar a compreensão, como \"Se você tem R100.000emdívidaseR 50.000 em recursos líquidos, a dependência de empréstimos seria de 200%.\"\n",
        "- Campos Auxiliares: Considere incluir links para exemplos ou guias passo a passo, caso o usuário precise de ajuda para encontrar ou calcular algum valor.\n",
        "- Uso de Escalas e Barras Deslizantes: Para valores em porcentagens, você pode usar barras deslizantes (sliders), onde o usuário apenas escolhe um valor entre 0% e 100%, simplificando o processo de input.\n",
        "- Como o Modelo de IA usa os dados:\n",
        "\n",
        "- Esses valores serão usados por um modelo de IA para entender melhor a situação financeira da empresa. Com base nas entradas que o usuário fornecer, a IA pode identificar padrões e sinais que indicam risco de falência, levando em consideração a combinação desses fatores, como endividamento excessivo, baixo retorno sobre ativos e falta de liquidez.\n",
        "- Esse processo pode envolver algoritmos como análise preditiva ou aprendizado supervisionado, onde o modelo foi treinado em dados financeiros de empresas que passaram por dificuldades financeiras no passado, ajudando a prever quais empresas estão mais propensas a enfrentar problemas."
      ],
      "metadata": {
        "id": "Nz4RNkdj_Kh1"
      }
    }
  ]
}